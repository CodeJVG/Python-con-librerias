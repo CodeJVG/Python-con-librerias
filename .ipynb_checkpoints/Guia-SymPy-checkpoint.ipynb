{
 "cells": [
  {
   "cell_type": "code",
   "execution_count": 2,
   "id": "924b47ef-e807-4024-959f-ca9ea7cc06a7",
   "metadata": {},
   "outputs": [],
   "source": [
    "import sympy as smp\n",
    "import numpy as np\n",
    "import matplotlib.pyplot as plt\n"
   ]
  },
  {
   "cell_type": "markdown",
   "id": "30678355-fda9-437e-af7f-ad7bc8ceb4c2",
   "metadata": {},
   "source": [
    "# Introduccion\n",
    "Simbolos pueden ser definidos como:"
   ]
  },
  {
   "cell_type": "code",
   "execution_count": 3,
   "id": "3ce019d4-fb8f-4486-9c75-356becf8e351",
   "metadata": {},
   "outputs": [],
   "source": [
    "x = smp.symbols('x')"
   ]
  },
  {
   "cell_type": "markdown",
   "id": "dc2300c4-56ba-4f8a-837a-395cac978f9d",
   "metadata": {},
   "source": [
    "Puedes usar varios operadores matematicos en limbolos definidos"
   ]
  },
  {
   "cell_type": "code",
   "execution_count": 4,
   "id": "5823202d-1950-4f5f-a5ea-d0fb1bbc1a97",
   "metadata": {},
   "outputs": [
    {
     "data": {
      "text/latex": [
       "$\\displaystyle x^{2}$"
      ],
      "text/plain": [
       "x**2"
      ]
     },
     "execution_count": 4,
     "metadata": {},
     "output_type": "execute_result"
    }
   ],
   "source": [
    "x**2"
   ]
  },
  {
   "cell_type": "code",
   "execution_count": 5,
   "id": "d3fa0f86-b797-4210-a019-ae3c7d0e423b",
   "metadata": {},
   "outputs": [
    {
     "data": {
      "text/latex": [
       "$\\displaystyle \\sin{\\left(x \\right)}$"
      ],
      "text/plain": [
       "sin(x)"
      ]
     },
     "execution_count": 5,
     "metadata": {},
     "output_type": "execute_result"
    }
   ],
   "source": [
    "smp.sin(x)"
   ]
  },
  {
   "cell_type": "markdown",
   "id": "ddee5a55-712b-463a-9765-2fcf4a34f2c5",
   "metadata": {},
   "source": [
    "Hay muchas funciones construidas en sympy"
   ]
  },
  {
   "cell_type": "code",
   "execution_count": 6,
   "id": "2d6819bf-a7e8-47d6-9c11-7ce592574fed",
   "metadata": {},
   "outputs": [],
   "source": [
    "#smp."
   ]
  },
  {
   "cell_type": "markdown",
   "id": "f158d16e-7d99-42ec-ae83-5282562e72b2",
   "metadata": {},
   "source": [
    "Puedes usar expresiones en nuevas variables"
   ]
  },
  {
   "cell_type": "code",
   "execution_count": 7,
   "id": "81d4dfea-9557-479e-9498-297d5485009f",
   "metadata": {},
   "outputs": [
    {
     "data": {
      "text/latex": [
       "$\\displaystyle x^{2} + 4 x + 3$"
      ],
      "text/plain": [
       "x**2 + 4*x + 3"
      ]
     },
     "execution_count": 7,
     "metadata": {},
     "output_type": "execute_result"
    }
   ],
   "source": [
    "y = x**2 + 4*x + 3\n",
    "y"
   ]
  },
  {
   "cell_type": "markdown",
   "id": "80b2c95c-af6c-43e2-96fa-fab15722692a",
   "metadata": {},
   "source": [
    "Hacer operaciones con nuevas variables:"
   ]
  },
  {
   "cell_type": "code",
   "execution_count": 8,
   "id": "a6c54644-f3ec-4826-be03-6ad2cf197f92",
   "metadata": {},
   "outputs": [
    {
     "data": {
      "text/latex": [
       "$\\displaystyle \\left(x^{2} + 4 x + 3\\right)^{2}$"
      ],
      "text/plain": [
       "(x**2 + 4*x + 3)**2"
      ]
     },
     "execution_count": 8,
     "metadata": {},
     "output_type": "execute_result"
    }
   ],
   "source": [
    "z = y**2\n",
    "z"
   ]
  },
  {
   "cell_type": "markdown",
   "id": "6de104e7-990a-4ffb-b6dc-32e015cb4026",
   "metadata": {},
   "source": [
    "Podemas expresar este resultado de diversas formas:"
   ]
  },
  {
   "cell_type": "code",
   "execution_count": 9,
   "id": "e37d281e-3fd3-4ad7-a9e2-059d49b08009",
   "metadata": {},
   "outputs": [
    {
     "data": {
      "text/latex": [
       "$\\displaystyle \\left(x + 1\\right)^{2} \\left(x + 3\\right)^{2}$"
      ],
      "text/plain": [
       "(x + 1)**2*(x + 3)**2"
      ]
     },
     "execution_count": 9,
     "metadata": {},
     "output_type": "execute_result"
    }
   ],
   "source": [
    "z.factor()"
   ]
  },
  {
   "cell_type": "code",
   "execution_count": 10,
   "id": "a028f7a5-27d0-42c1-b903-43fab8853db5",
   "metadata": {},
   "outputs": [
    {
     "data": {
      "text/latex": [
       "$\\displaystyle x^{4} + 8 x^{3} + 22 x^{2} + 24 x + 9$"
      ],
      "text/plain": [
       "x**4 + 8*x**3 + 22*x**2 + 24*x + 9"
      ]
     },
     "execution_count": 10,
     "metadata": {},
     "output_type": "execute_result"
    }
   ],
   "source": [
    "z.expand()"
   ]
  },
  {
   "cell_type": "markdown",
   "id": "f6df5d0e-94b6-4d61-98a1-3b04a94d1f05",
   "metadata": {},
   "source": [
    "En la notacion $smp.solve(f,x)$, sympy encuentra el valor de $x$ tal que $f(x)=0$ "
   ]
  },
  {
   "cell_type": "code",
   "execution_count": 11,
   "id": "f39cbe84-c551-4e00-a387-44a172dd7a7d",
   "metadata": {},
   "outputs": [
    {
     "data": {
      "text/plain": [
       "[-3, -1]"
      ]
     },
     "execution_count": 11,
     "metadata": {},
     "output_type": "execute_result"
    }
   ],
   "source": [
    "smp.solve(z,x)"
   ]
  },
  {
   "cell_type": "code",
   "execution_count": 12,
   "id": "f64e6222-7f09-4c43-8642-ea298d0a99ee",
   "metadata": {},
   "outputs": [
    {
     "data": {
      "text/plain": [
       "[0, pi]"
      ]
     },
     "execution_count": 12,
     "metadata": {},
     "output_type": "execute_result"
    }
   ],
   "source": [
    "smp.solve(smp.sin(x))"
   ]
  },
  {
   "cell_type": "code",
   "execution_count": 13,
   "id": "f04860b5-1276-489b-afdb-2313ede81e23",
   "metadata": {},
   "outputs": [
    {
     "data": {
      "text/plain": [
       "[-I, I]"
      ]
     },
     "execution_count": 13,
     "metadata": {},
     "output_type": "execute_result"
    }
   ],
   "source": [
    "x = smp.symbols('x')\n",
    "#Especificamos la variable en la que se va ha derivar\n",
    "smp.solve(x**2+1,x)"
   ]
  },
  {
   "cell_type": "code",
   "execution_count": 14,
   "id": "6321931e-6f3e-4f91-8ed3-66b053f2a158",
   "metadata": {},
   "outputs": [
    {
     "data": {
      "text/plain": [
       "[]"
      ]
     },
     "execution_count": 14,
     "metadata": {},
     "output_type": "execute_result"
    }
   ],
   "source": [
    "#Especificamos que x sea un numero real\n",
    "x = smp.symbols('x', real=True)\n",
    "smp.solve(x**2+1,x)"
   ]
  },
  {
   "cell_type": "code",
   "execution_count": 15,
   "id": "a0f77577-7ae6-407e-919a-152fd96c9b77",
   "metadata": {},
   "outputs": [
    {
     "data": {
      "text/latex": [
       "$\\displaystyle x^{2} + y \\sin{\\left(z \\right)}$"
      ],
      "text/plain": [
       "x**2 + y*sin(z)"
      ]
     },
     "execution_count": 15,
     "metadata": {},
     "output_type": "execute_result"
    }
   ],
   "source": [
    "#Definimos variables en grupo\n",
    "x, y, z = smp.symbols('x y z')\n",
    "#Definimos una funcion de varias variables\n",
    "F = x**2+smp.sin(z)*y\n",
    "F"
   ]
  },
  {
   "cell_type": "markdown",
   "id": "d8822104-abff-4939-a963-a6c0cb9b646f",
   "metadata": {},
   "source": [
    "Podemos resolver expresiones multivariables  respecto a alguna variable a especificar"
   ]
  },
  {
   "cell_type": "code",
   "execution_count": 16,
   "id": "8d4576c6-f800-418c-b9d9-00d764d0992d",
   "metadata": {},
   "outputs": [
    {
     "data": {
      "text/plain": [
       "[-sqrt(-y*sin(z)), sqrt(-y*sin(z))]"
      ]
     },
     "execution_count": 16,
     "metadata": {},
     "output_type": "execute_result"
    }
   ],
   "source": [
    "x_sols = smp.solve(F, x)\n",
    "x_sols"
   ]
  },
  {
   "cell_type": "code",
   "execution_count": 17,
   "id": "c856a1ae-5d31-4bb2-b9e6-6f033a4c9fc4",
   "metadata": {},
   "outputs": [
    {
     "data": {
      "text/plain": [
       "[-x**2/sin(z)]"
      ]
     },
     "execution_count": 17,
     "metadata": {},
     "output_type": "execute_result"
    }
   ],
   "source": [
    "y_sols = smp.solve(F, y)\n",
    "y_sols"
   ]
  },
  {
   "cell_type": "code",
   "execution_count": 18,
   "id": "85b2238c-9745-41f4-852c-eb45c37bb86d",
   "metadata": {},
   "outputs": [
    {
     "data": {
      "text/plain": [
       "[asin(x**2/y) + pi, -asin(x**2/y)]"
      ]
     },
     "execution_count": 18,
     "metadata": {},
     "output_type": "execute_result"
    }
   ],
   "source": [
    "z_sols = smp.solve(F, z)\n",
    "z_sols"
   ]
  },
  {
   "cell_type": "markdown",
   "id": "35671d09-0306-44ab-8d9e-f7bca8d1ea7b",
   "metadata": {},
   "source": [
    "Convertimos esta expesion es una funcion , de manera que podamos graficarla "
   ]
  },
  {
   "cell_type": "code",
   "execution_count": 19,
   "id": "ec47e2db-eb35-4089-85d5-0a08ba7f9d27",
   "metadata": {},
   "outputs": [
    {
     "data": {
      "text/latex": [
       "$\\displaystyle \\operatorname{asin}{\\left(\\frac{x^{2}}{y} \\right)} + \\pi$"
      ],
      "text/plain": [
       "asin(x**2/y) + pi"
      ]
     },
     "execution_count": 19,
     "metadata": {},
     "output_type": "execute_result"
    }
   ],
   "source": [
    "expr = z_sols[0]\n",
    "expr"
   ]
  },
  {
   "cell_type": "code",
   "execution_count": 20,
   "id": "b49a4a1c-a797-4a6a-aa78-53a856172ea7",
   "metadata": {},
   "outputs": [
    {
     "data": {
      "text/plain": [
       "3.6651914291880923"
      ]
     },
     "execution_count": 20,
     "metadata": {},
     "output_type": "execute_result"
    }
   ],
   "source": [
    "expr_f = smp.lambdify([x,y], expr)\n",
    "expr_f(1,2)"
   ]
  },
  {
   "cell_type": "code",
   "execution_count": 21,
   "id": "c260328c-edb4-4f4d-a624-0d02bf57a147",
   "metadata": {},
   "outputs": [
    {
     "data": {
      "image/png": "[encoded data removed]",
      "text/plain": [
       "<Figure size 640x480 with 1 Axes>"
      ]
     },
     "metadata": {},
     "output_type": "display_data"
    }
   ],
   "source": [
    "x_num = np.linspace(0, 1, 100)\n",
    "y_num = 2\n",
    "\n",
    "plt.plot(x_num, expr_f(x_num,y_num))\n",
    "plt.show()"
   ]
  },
  {
   "cell_type": "markdown",
   "id": "a698ad4b-76c2-4c6a-946b-73eec98a8608",
   "metadata": {},
   "source": [
    "Para expresiones multivariable , también podemos sustituir valores"
   ]
  },
  {
   "cell_type": "code",
   "execution_count": 22,
   "id": "b9e993eb-07ce-4e9c-811a-4f4c65bc0e11",
   "metadata": {},
   "outputs": [
    {
     "data": {
      "text/latex": [
       "$\\displaystyle x^{2} + y \\sin{\\left(z \\right)}$"
      ],
      "text/plain": [
       "x**2 + y*sin(z)"
      ]
     },
     "execution_count": 22,
     "metadata": {},
     "output_type": "execute_result"
    }
   ],
   "source": [
    "F"
   ]
  },
  {
   "cell_type": "code",
   "execution_count": 23,
   "id": "204b3aa1-50ce-41cc-8043-d7c6acae1511",
   "metadata": {},
   "outputs": [
    {
     "data": {
      "text/latex": [
       "$\\displaystyle x^{2} + \\sin{\\left(y \\right)} \\cos{\\left(y \\right)}$"
      ],
      "text/plain": [
       "x**2 + sin(y)*cos(y)"
      ]
     },
     "execution_count": 23,
     "metadata": {},
     "output_type": "execute_result"
    }
   ],
   "source": [
    "F.subs([(y,smp.cos(z)),(z,y)])"
   ]
  },
  {
   "cell_type": "markdown",
   "id": "bcd5ef45-c36b-49b2-8c62-712d40555bb1",
   "metadata": {
    "tags": []
   },
   "source": [
    "# Ejemplos\n",
    "Un objeto en caida libra choca con una plataforma que sube de forma acelerada\n",
    "1. Objeto $h_o(t) = h_0 - v_0t - \\frac{1}{2}gt^2$\n",
    "2. Plataforma $h_p(t) = v_pt + \\frac{1}{2}qt^2$\n",
    "\n",
    "**Encuentre la valocidad inicial** $v_0$ **tal que cuando el objeto u la plataforma colisionan , ellos se mueve a la isma rapidez** "
   ]
  },
  {
   "cell_type": "markdown",
   "id": "6ffbf4db-8598-4bd4-8d2f-e906c085e8a9",
   "metadata": {},
   "source": [
    "Necesitamos resolver para $v_0$ y $t$ la dos ecuaciones:\n",
    "1. $h_o(t) = h_p(t)$\n",
    "2. $\\frac{d h_o}{dt}(t) = -\\frac{d h_p}{dt}(t)$"
   ]
  },
  {
   "cell_type": "code",
   "execution_count": 24,
   "id": "cc8eb29d-401c-44f4-a150-e1c3d4b87c12",
   "metadata": {},
   "outputs": [],
   "source": [
    "# Definimos las variables necesarias\n",
    "t, h0, v0, g, vp, q = smp.symbols('t, h0, v0, g, vp, q', real=True, positive=True)"
   ]
  },
  {
   "cell_type": "code",
   "execution_count": 50,
   "id": "fcfb047d-db54-4649-9083-b82d4bbda441",
   "metadata": {},
   "outputs": [],
   "source": [
    "#Definimos las expresiones algebraicas\n",
    "h0t = h0 - v0*t - smp.Rational(1, 2)*g*t**2\n",
    "dh0dt = g*t - v0\n",
    "hpt = vp*t + smp.Rational(1, 2)*q*t**2\n",
    "dhpdt = vp + q*t\n"
   ]
  },
  {
   "cell_type": "markdown",
   "id": "6ec3072a-f637-49db-8aea-30b4efdb18dc",
   "metadata": {},
   "source": [
    "Definimos las ecuaciones"
   ]
  },
  {
   "cell_type": "code",
   "execution_count": 51,
   "id": "7c9e9f09-92e8-4202-8479-0c09b310c9cf",
   "metadata": {},
   "outputs": [],
   "source": [
    "eq1 = h0t -hpt\n",
    "eq2 = dh0dt +dhpdt"
   ]
  },
  {
   "cell_type": "markdown",
   "id": "d784486b-3b1a-43c3-8faa-ac7d10e12c74",
   "metadata": {},
   "source": [
    "Resolvemos las ecuaciones"
   ]
  },
  {
   "cell_type": "code",
   "execution_count": 52,
   "id": "1de35da7-27a8-4ea6-9d72-7115bce7a845",
   "metadata": {},
   "outputs": [
    {
     "data": {
      "text/plain": [
       "((-2*vp/3 + sqrt(2)*sqrt(3*g*h0 + 3*h0*q + 2*vp**2)/3)/(g + q),\n",
       " vp/3 + sqrt(2)*sqrt(3*g*h0 + 3*h0*q + 2*vp**2)/3)"
      ]
     },
     "execution_count": 52,
     "metadata": {},
     "output_type": "execute_result"
    }
   ],
   "source": [
    "smp.solve([eq1, eq2], [t, v0])[0]"
   ]
  },
  {
   "cell_type": "code",
   "execution_count": 53,
   "id": "cd28efa1-441e-4353-b241-ee8a63957be8",
   "metadata": {},
   "outputs": [],
   "source": [
    "t_collide, v_initfall = smp.solve([eq1, eq2], [t, v0])[0]"
   ]
  },
  {
   "cell_type": "code",
   "execution_count": 54,
   "id": "3882ef08-a471-4989-b5e5-db0950ed7ac2",
   "metadata": {},
   "outputs": [
    {
     "data": {
      "text/latex": [
       "$\\displaystyle \\frac{vp}{3} + \\frac{\\sqrt{2} \\sqrt{3 g h_{0} + 3 h_{0} q + 2 vp^{2}}}{3}$"
      ],
      "text/plain": [
       "vp/3 + sqrt(2)*sqrt(3*g*h0 + 3*h0*q + 2*vp**2)/3"
      ]
     },
     "execution_count": 54,
     "metadata": {},
     "output_type": "execute_result"
    }
   ],
   "source": [
    "v_initfall"
   ]
  },
  {
   "cell_type": "code",
   "execution_count": 55,
   "id": "4471c6dd-1fd3-41b5-b836-6d97c996e8e4",
   "metadata": {},
   "outputs": [
    {
     "data": {
      "text/latex": [
       "$\\displaystyle \\frac{- \\frac{2 vp}{3} + \\frac{\\sqrt{2} \\sqrt{3 g h_{0} + 3 h_{0} q + 2 vp^{2}}}{3}}{g + q}$"
      ],
      "text/plain": [
       "(-2*vp/3 + sqrt(2)*sqrt(3*g*h0 + 3*h0*q + 2*vp**2)/3)/(g + q)"
      ]
     },
     "execution_count": 55,
     "metadata": {},
     "output_type": "execute_result"
    }
   ],
   "source": [
    "t_collide"
   ]
  },
  {
   "cell_type": "markdown",
   "id": "34efb8f9-b5bc-43a4-965d-df641d7e5326",
   "metadata": {},
   "source": [
    "**¿Cual es la velocidad de colision?**"
   ]
  },
  {
   "cell_type": "code",
   "execution_count": 58,
   "id": "f0ae3dfc-a984-4cd8-814e-28e95ff5b18a",
   "metadata": {},
   "outputs": [
    {
     "data": {
      "text/latex": [
       "$\\displaystyle \\frac{- g vp - \\frac{q vp}{3} - \\frac{q \\sqrt{6 g h_{0} + 6 h_{0} q + 4 vp^{2}}}{3}}{g + q}$"
      ],
      "text/plain": [
       "(-g*vp - q*vp/3 - q*sqrt(6*g*h0 + 6*h0*q + 4*vp**2)/3)/(g + q)"
      ]
     },
     "execution_count": 58,
     "metadata": {},
     "output_type": "execute_result"
    }
   ],
   "source": [
    "dh0dt.subs([(t,t_collide),(v0,v_initfall)]).simplify()"
   ]
  },
  {
   "cell_type": "markdown",
   "id": "79ccc217-63fc-4d1b-951a-2e703acb6b2a",
   "metadata": {},
   "source": [
    "# Cálculo (1er año)"
   ]
  },
  {
   "cell_type": "code",
   "execution_count": 62,
   "id": "f79ec972-5c09-448c-96d8-d32890d3d125",
   "metadata": {},
   "outputs": [],
   "source": [
    "x  = smp.symbols('x')"
   ]
  },
  {
   "cell_type": "markdown",
   "id": "146b81d1-3462-4fd3-8214-706191b4be68",
   "metadata": {},
   "source": [
    "# Limites\n",
    "$$\\lim_{x\\to \\pi}\\sin(x/2+sin(x))$$"
   ]
  },
  {
   "cell_type": "code",
   "execution_count": 64,
   "id": "92f00fc2-1b3c-4e5e-baae-c7164581d011",
   "metadata": {},
   "outputs": [
    {
     "data": {
      "text/latex": [
       "$\\displaystyle 1$"
      ],
      "text/plain": [
       "1"
      ]
     },
     "execution_count": 64,
     "metadata": {},
     "output_type": "execute_result"
    }
   ],
   "source": [
    "smp.limit(smp.sin(x/2+smp.sin(x)),x,smp.pi)"
   ]
  },
  {
   "cell_type": "markdown",
   "id": "1e84de2a-6cba-4e9f-80b8-9ece6895a9da",
   "metadata": {},
   "source": [
    "# Derivadas\n",
    "$$\\frac{d}{dx} (\\frac{1+\\sin(x)}{1-\\cos(x)})^2$$"
   ]
  },
  {
   "cell_type": "code",
   "execution_count": 66,
   "id": "880d510e-d55c-4853-99b8-5d710ba4ac26",
   "metadata": {},
   "outputs": [
    {
     "data": {
      "text/latex": [
       "$\\displaystyle \\frac{2 \\left(\\sin{\\left(x \\right)} + 1\\right) \\cos{\\left(x \\right)}}{\\left(1 - \\cos{\\left(x \\right)}\\right)^{2}} - \\frac{2 \\left(\\sin{\\left(x \\right)} + 1\\right)^{2} \\sin{\\left(x \\right)}}{\\left(1 - \\cos{\\left(x \\right)}\\right)^{3}}$"
      ],
      "text/plain": [
       "2*(sin(x) + 1)*cos(x)/(1 - cos(x))**2 - 2*(sin(x) + 1)**2*sin(x)/(1 - cos(x))**3"
      ]
     },
     "execution_count": 66,
     "metadata": {},
     "output_type": "execute_result"
    }
   ],
   "source": [
    "smp.diff(((1+smp.sin(x))/(1-smp.cos(x)))**2,x)"
   ]
  },
  {
   "cell_type": "markdown",
   "id": "b98219c5-e83a-43b2-ab10-6971b121ec4f",
   "metadata": {},
   "source": [
    "$$\\frac{d}{dx} f(x+g(x))$$"
   ]
  },
  {
   "cell_type": "code",
   "execution_count": 82,
   "id": "77c1c699-b7ee-4308-b260-cd5f8370da78",
   "metadata": {},
   "outputs": [
    {
     "data": {
      "text/latex": [
       "$\\displaystyle f{\\left(x + g{\\left(x \\right)} \\right)}$"
      ],
      "text/plain": [
       "f(x + g(x))"
      ]
     },
     "execution_count": 82,
     "metadata": {},
     "output_type": "execute_result"
    }
   ],
   "source": [
    "f, g = smp.symbols('f g', cls=smp.Function)\n",
    "g = g(x)\n",
    "f = f(x+g)\n",
    "f"
   ]
  },
  {
   "cell_type": "code",
   "execution_count": 84,
   "id": "2ec966a6-1baa-4dd8-a366-6c0ddf0cc9bd",
   "metadata": {},
   "outputs": [
    {
     "data": {
      "text/latex": [
       "$\\displaystyle \\left(\\frac{d}{d x} g{\\left(x \\right)} + 1\\right) \\left. \\frac{d}{d \\xi_{1}} f{\\left(\\xi_{1} \\right)} \\right|_{\\substack{ \\xi_{1}=x + g{\\left(x \\right)} }}$"
      ],
      "text/plain": [
       "(Derivative(g(x), x) + 1)*Subs(Derivative(f(_xi_1), _xi_1), _xi_1, x + g(x))"
      ]
     },
     "execution_count": 84,
     "metadata": {},
     "output_type": "execute_result"
    }
   ],
   "source": [
    "dfdx = smp.diff(f,x)\n",
    "dfdx"
   ]
  },
  {
   "cell_type": "code",
   "execution_count": 88,
   "id": "26489692-2c6e-4031-9db3-bb0fd5667a83",
   "metadata": {},
   "outputs": [
    {
     "data": {
      "text/latex": [
       "$\\displaystyle \\left(\\cos{\\left(x \\right)} + 1\\right) \\left. \\frac{d}{d \\xi_{1}} f{\\left(\\xi_{1} \\right)} \\right|_{\\substack{ \\xi_{1}=x + \\sin{\\left(x \\right)} }}$"
      ],
      "text/plain": [
       "(cos(x) + 1)*Subs(Derivative(f(_xi_1), _xi_1), _xi_1, x + sin(x))"
      ]
     },
     "execution_count": 88,
     "metadata": {},
     "output_type": "execute_result"
    }
   ],
   "source": [
    "dfdx.subs([(g, smp.sin(x))]).doit()"
   ]
  },
  {
   "cell_type": "markdown",
   "id": "a5534938-258e-4568-8454-0339c8e42785",
   "metadata": {},
   "source": [
    "# Antiderivadas Básicas"
   ]
  },
  {
   "cell_type": "markdown",
   "id": "aa15c711-22e0-4319-87c7-7a30284b510c",
   "metadata": {},
   "source": [
    "$$\\int \\csc(x)\\cot(x)dx$$"
   ]
  },
  {
   "cell_type": "code",
   "execution_count": 89,
   "id": "e5568f45-315c-417e-8b75-f06ebdb26532",
   "metadata": {},
   "outputs": [
    {
     "data": {
      "text/latex": [
       "$\\displaystyle - \\frac{1}{\\sin{\\left(x \\right)}}$"
      ],
      "text/plain": [
       "-1/sin(x)"
      ]
     },
     "execution_count": 89,
     "metadata": {},
     "output_type": "execute_result"
    }
   ],
   "source": [
    "smp.integrate(smp.csc(x)*smp.cot(x),x)"
   ]
  },
  {
   "cell_type": "markdown",
   "id": "36a0223d-870a-4e5a-967e-fc5013158b91",
   "metadata": {},
   "source": [
    "# Integrales definidas\n",
    "$$\\int_0^{\\ln(4)}       \\frac{e^xdx}{\\sqrt{e^{2x}+9}}$$"
   ]
  },
  {
   "cell_type": "code",
   "execution_count": 90,
   "id": "5891d7a4-f1f5-4fcd-ace8-d236de76d846",
   "metadata": {},
   "outputs": [
    {
     "data": {
      "text/latex": [
       "$\\displaystyle - \\operatorname{asinh}{\\left(\\frac{1}{3} \\right)} + \\operatorname{asinh}{\\left(\\frac{4}{3} \\right)}$"
      ],
      "text/plain": [
       "-asinh(1/3) + asinh(4/3)"
      ]
     },
     "execution_count": 90,
     "metadata": {},
     "output_type": "execute_result"
    }
   ],
   "source": [
    "smp.integrate(smp.exp(x)/smp.sqrt(smp.exp(2*x)+9), (x, 0, smp.log(4)))"
   ]
  },
  {
   "cell_type": "markdown",
   "id": "57ba4eda-306f-4ff2-9f1c-951ce9d7c3b5",
   "metadata": {},
   "source": [
    "$$\\int_1^t x^{10}e^xdx$$"
   ]
  },
  {
   "cell_type": "code",
   "execution_count": 91,
   "id": "60f16622-4588-4934-9703-adcfff0ab95f",
   "metadata": {},
   "outputs": [],
   "source": [
    "t = smp.symbols('t')"
   ]
  },
  {
   "cell_type": "code",
   "execution_count": 92,
   "id": "ad984ac7-453f-49c1-bc78-20b1a27f8d2c",
   "metadata": {},
   "outputs": [
    {
     "data": {
      "text/latex": [
       "$\\displaystyle \\left(t^{10} - 10 t^{9} + 90 t^{8} - 720 t^{7} + 5040 t^{6} - 30240 t^{5} + 151200 t^{4} - 604800 t^{3} + 1814400 t^{2} - 3628800 t + 3628800\\right) e^{t} - 1334961 e$"
      ],
      "text/plain": [
       "(t**10 - 10*t**9 + 90*t**8 - 720*t**7 + 5040*t**6 - 30240*t**5 + 151200*t**4 - 604800*t**3 + 1814400*t**2 - 3628800*t + 3628800)*exp(t) - 1334961*E"
      ]
     },
     "execution_count": 92,
     "metadata": {},
     "output_type": "execute_result"
    }
   ],
   "source": [
    "smp.integrate(x**10*smp.exp(x), (x, 1, t))"
   ]
  },
  {
   "cell_type": "markdown",
   "id": "208b70a1-7147-4564-9fd5-50b9180d8c56",
   "metadata": {},
   "source": [
    "# Calculo Multivariable\n"
   ]
  },
  {
   "cell_type": "code",
   "execution_count": 93,
   "id": "f3b4fe8e-72c9-4630-b9cd-a99a97406c43",
   "metadata": {},
   "outputs": [],
   "source": [
    "x, y, z, u1, u2, u3, v1, v2, v3, t = smp.symbols('x, y, z, u1, u2, u3, v1, v2, v3, t')  "
   ]
  },
  {
   "cell_type": "markdown",
   "id": "73194736-7f51-419f-9748-2223c8359783",
   "metadata": {},
   "source": [
    "## Vectores y Geometria"
   ]
  },
  {
   "cell_type": "code",
   "execution_count": 94,
   "id": "239a5682-902e-4bfd-994b-a0371bc0ed6e",
   "metadata": {},
   "outputs": [],
   "source": [
    "u = smp.Matrix([u1, u2, u3])\n",
    "v = smp.Matrix([v1, v2, v3])"
   ]
  },
  {
   "cell_type": "markdown",
   "id": "3ef38ca5-581b-4629-bed6-aafccbe9ed7a",
   "metadata": {},
   "source": [
    "### Adicion y multipicacion"
   ]
  },
  {
   "cell_type": "code",
   "execution_count": 95,
   "id": "defa4e23-a7d5-457b-aa13-24f2582168e6",
   "metadata": {},
   "outputs": [
    {
     "data": {
      "text/latex": [
       "$\\displaystyle \\left[\\begin{matrix}2 u_{1} + v_{1}\\\\2 u_{2} + v_{2}\\\\2 u_{3} + v_{3}\\end{matrix}\\right]$"
      ],
      "text/plain": [
       "Matrix([\n",
       "[2*u1 + v1],\n",
       "[2*u2 + v2],\n",
       "[2*u3 + v3]])"
      ]
     },
     "execution_count": 95,
     "metadata": {},
     "output_type": "execute_result"
    }
   ],
   "source": [
    "2*u+v"
   ]
  },
  {
   "cell_type": "markdown",
   "id": "2d9cb247-5e80-43e0-8f7d-f319562a67ba",
   "metadata": {},
   "source": [
    "### Producto punto"
   ]
  },
  {
   "cell_type": "code",
   "execution_count": 97,
   "id": "1f03f400-17a3-4f81-becd-e4e38b4914e6",
   "metadata": {},
   "outputs": [
    {
     "data": {
      "text/latex": [
       "$\\displaystyle u_{1} v_{1} + u_{2} v_{2} + u_{3} v_{3}$"
      ],
      "text/plain": [
       "u1*v1 + u2*v2 + u3*v3"
      ]
     },
     "execution_count": 97,
     "metadata": {},
     "output_type": "execute_result"
    }
   ],
   "source": [
    "u.dot(v)"
   ]
  },
  {
   "cell_type": "markdown",
   "id": "bc5cea64-c126-4eaa-b4ce-8f858e400a68",
   "metadata": {},
   "source": [
    "### Producto cruz"
   ]
  },
  {
   "cell_type": "code",
   "execution_count": 98,
   "id": "0ea4d3c0-2438-4527-b976-fd5c701a508c",
   "metadata": {},
   "outputs": [
    {
     "data": {
      "text/latex": [
       "$\\displaystyle \\left[\\begin{matrix}u_{2} v_{3} - u_{3} v_{2}\\\\- u_{1} v_{3} + u_{3} v_{1}\\\\u_{1} v_{2} - u_{2} v_{1}\\end{matrix}\\right]$"
      ],
      "text/plain": [
       "Matrix([\n",
       "[ u2*v3 - u3*v2],\n",
       "[-u1*v3 + u3*v1],\n",
       "[ u1*v2 - u2*v1]])"
      ]
     },
     "execution_count": 98,
     "metadata": {},
     "output_type": "execute_result"
    }
   ],
   "source": [
    "u.cross(v)"
   ]
  },
  {
   "cell_type": "markdown",
   "id": "1d972e95-94c4-459a-8556-ec3ea867f138",
   "metadata": {},
   "source": [
    "### Norma"
   ]
  },
  {
   "cell_type": "code",
   "execution_count": 99,
   "id": "109dfd3d-b904-4e9c-8b8c-07b33ab509cd",
   "metadata": {},
   "outputs": [
    {
     "data": {
      "text/latex": [
       "$\\displaystyle \\sqrt{\\left|{u_{1}}\\right|^{2} + \\left|{u_{2}}\\right|^{2} + \\left|{u_{3}}\\right|^{2}}$"
      ],
      "text/plain": [
       "sqrt(Abs(u1)**2 + Abs(u2)**2 + Abs(u3)**2)"
      ]
     },
     "execution_count": 99,
     "metadata": {},
     "output_type": "execute_result"
    }
   ],
   "source": [
    "u.norm()"
   ]
  },
  {
   "cell_type": "markdown",
   "id": "5c27830c-3100-4d5c-be77-80517ad848bc",
   "metadata": {},
   "source": [
    "### Proyeccion"
   ]
  },
  {
   "cell_type": "code",
   "execution_count": 101,
   "id": "29784b3a-56c2-4068-9071-d46e62dc34fe",
   "metadata": {},
   "outputs": [
    {
     "data": {
      "text/latex": [
       "$\\displaystyle \\left[\\begin{matrix}\\frac{v_{1} \\left(u_{1} v_{1} + u_{2} v_{2} + u_{3} v_{3}\\right)}{\\left|{v_{1}}\\right|^{2} + \\left|{v_{2}}\\right|^{2} + \\left|{v_{3}}\\right|^{2}}\\\\\\frac{v_{2} \\left(u_{1} v_{1} + u_{2} v_{2} + u_{3} v_{3}\\right)}{\\left|{v_{1}}\\right|^{2} + \\left|{v_{2}}\\right|^{2} + \\left|{v_{3}}\\right|^{2}}\\\\\\frac{v_{3} \\left(u_{1} v_{1} + u_{2} v_{2} + u_{3} v_{3}\\right)}{\\left|{v_{1}}\\right|^{2} + \\left|{v_{2}}\\right|^{2} + \\left|{v_{3}}\\right|^{2}}\\end{matrix}\\right]$"
      ],
      "text/plain": [
       "Matrix([\n",
       "[v1*(u1*v1 + u2*v2 + u3*v3)/(Abs(v1)**2 + Abs(v2)**2 + Abs(v3)**2)],\n",
       "[v2*(u1*v1 + u2*v2 + u3*v3)/(Abs(v1)**2 + Abs(v2)**2 + Abs(v3)**2)],\n",
       "[v3*(u1*v1 + u2*v2 + u3*v3)/(Abs(v1)**2 + Abs(v2)**2 + Abs(v3)**2)]])"
      ]
     },
     "execution_count": 101,
     "metadata": {},
     "output_type": "execute_result"
    }
   ],
   "source": [
    "proj_v_u = u.dot(v)/v.norm()**2 *v\n",
    "proj_v_u"
   ]
  },
  {
   "cell_type": "markdown",
   "id": "8962eff2-4057-4afc-a8ef-fbb307a4184e",
   "metadata": {},
   "source": [
    "### Rectas\n"
   ]
  },
  {
   "cell_type": "code",
   "execution_count": 102,
   "id": "2f23dd27-4b62-4dcb-a861-ee2e965216b5",
   "metadata": {},
   "outputs": [
    {
     "data": {
      "text/latex": [
       "$\\displaystyle \\left[\\begin{matrix}t + 1\\\\3 t + 1\\\\1 - t\\end{matrix}\\right]$"
      ],
      "text/plain": [
       "Matrix([\n",
       "[  t + 1],\n",
       "[3*t + 1],\n",
       "[  1 - t]])"
      ]
     },
     "execution_count": 102,
     "metadata": {},
     "output_type": "execute_result"
    }
   ],
   "source": [
    "r0 = smp.Matrix([1, 1, 1])\n",
    "v = smp.Matrix([1, 3, -1])\n",
    "r = r0 + t*v\n",
    "r\n"
   ]
  },
  {
   "cell_type": "markdown",
   "id": "0f45b4b5-93d1-4ff9-8795-f0169cebb542",
   "metadata": {},
   "source": [
    "### Planos"
   ]
  },
  {
   "cell_type": "code",
   "execution_count": 103,
   "id": "2448bd04-0b57-4648-a49d-844a28402573",
   "metadata": {},
   "outputs": [
    {
     "data": {
      "text/latex": [
       "$\\displaystyle - x - y - z + 16$"
      ],
      "text/plain": [
       "-x - y - z + 16"
      ]
     },
     "execution_count": 103,
     "metadata": {},
     "output_type": "execute_result"
    }
   ],
   "source": [
    "P0 = smp.Matrix([4, 4, 8])\n",
    "r = smp.Matrix([x, y, z])\n",
    "n = smp.Matrix([1, 1, 1])\n",
    "n.dot(P0-r)"
   ]
  },
  {
   "cell_type": "markdown",
   "id": "18c670e9-b9e0-4f6d-8a47-e2a87ef1d2d1",
   "metadata": {},
   "source": [
    "## Calculo Vectorial"
   ]
  },
  {
   "cell_type": "markdown",
   "id": "303c7438-17d8-445f-925d-99f58912ddd0",
   "metadata": {},
   "source": [
    "### Derivadas de vectores"
   ]
  },
  {
   "cell_type": "code",
   "execution_count": 104,
   "id": "43b63440-2533-4929-998a-d3cfe024e2c5",
   "metadata": {},
   "outputs": [
    {
     "data": {
      "text/latex": [
       "$\\displaystyle \\left[\\begin{matrix}3 t\\\\\\sin{\\left(t \\right)}\\\\t^{2}\\end{matrix}\\right]$"
      ],
      "text/plain": [
       "Matrix([\n",
       "[   3*t],\n",
       "[sin(t)],\n",
       "[  t**2]])"
      ]
     },
     "execution_count": 104,
     "metadata": {},
     "output_type": "execute_result"
    }
   ],
   "source": [
    "r = smp.Matrix([3*t, smp.sin(t), t**2])\n",
    "r"
   ]
  },
  {
   "cell_type": "code",
   "execution_count": 105,
   "id": "c4c0d47d-84fd-46dd-8f32-62291fc526ee",
   "metadata": {},
   "outputs": [
    {
     "data": {
      "text/latex": [
       "$\\displaystyle \\left[\\begin{matrix}3\\\\\\cos{\\left(t \\right)}\\\\2 t\\end{matrix}\\right]$"
      ],
      "text/plain": [
       "Matrix([\n",
       "[     3],\n",
       "[cos(t)],\n",
       "[   2*t]])"
      ]
     },
     "execution_count": 105,
     "metadata": {},
     "output_type": "execute_result"
    }
   ],
   "source": [
    "smp.diff(r, t)"
   ]
  },
  {
   "cell_type": "code",
   "execution_count": null,
   "id": "403e9157-0a7c-43bb-b9c0-40e48d6e2577",
   "metadata": {},
   "outputs": [],
   "source": []
  }
 ],
 "metadata": {
  "kernelspec": {
   "display_name": "Python 3 (ipykernel)",
   "language": "python",
   "name": "python3"
  },
  "language_info": {
   "codemirror_mode": {
    "name": "ipython",
    "version": 3
   },
   "file_extension": ".py",
   "mimetype": "text/x-python",
   "name": "python",
   "nbconvert_exporter": "python",
   "pygments_lexer": "ipython3",
   "version": "3.10.8"
  }
 },
 "nbformat": 4,
 "nbformat_minor": 5
}
