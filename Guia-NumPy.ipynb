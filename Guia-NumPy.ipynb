{
 "cells": [
  {
   "cell_type": "markdown",
   "source": [
    "Todos los creditos a  Mr. P Solver \n",
    "\n",
    "https://www.youtube.com/c/MrPSolver"
   ],
   "metadata": {
    "id": "2h9xDm5R7eOS"
   },
   "id": "2h9xDm5R7eOS"
  },
  {
   "cell_type": "code",
   "execution_count": 1,
   "id": "a57295c9-11a2-4ef8-a071-43d2484fa090",
   "metadata": {
    "id": "a57295c9-11a2-4ef8-a071-43d2484fa090"
   },
   "outputs": [],
   "source": [
    "import numpy as np\n",
    "import matplotlib.pyplot as plt"
   ]
  },
  {
   "cell_type": "markdown",
   "id": "c13b825c-fd78-4f8c-b116-33b8367c3331",
   "metadata": {
    "id": "c13b825c-fd78-4f8c-b116-33b8367c3331"
   },
   "source": [
    "# Creando Arrays"
   ]
  },
  {
   "cell_type": "code",
   "execution_count": 2,
   "id": "961fe901-36cc-4b5a-8e2c-5c137ed120fd",
   "metadata": {
    "id": "961fe901-36cc-4b5a-8e2c-5c137ed120fd"
   },
   "outputs": [],
   "source": [
    "a1 = np.array([3,5,4,6])\n",
    "a2 = np.zeros(10)\n",
    "a3 = np.ones(10)\n",
    "a4 = np.random.random(10)\n",
    "a5 = np.random.randn(10)\n",
    "a6 = np.linspace(0,10,100)\n",
    "a7 = np.arange(0,10,0.02)"
   ]
  },
  {
   "cell_type": "code",
   "execution_count": null,
   "id": "a5b4a083-8f9a-4bef-964c-d234b80b43c9",
   "metadata": {
    "colab": {
     "base_uri": "https://localhost:8080/"
    },
    "id": "a5b4a083-8f9a-4bef-964c-d234b80b43c9",
    "executionInfo": {
     "status": "ok",
     "timestamp": 1653592843806,
     "user_tz": 300,
     "elapsed": 13,
     "user": {
      "displayName": "jorge rildo valenzuela garcia",
      "userId": "09377372821825860274"
     }
    },
    "outputId": "babe9875-ea48-4331-a1bf-48e56c0b7798",
    "pycharm": {
     "is_executing": true
    }
   },
   "outputs": [],
   "source": [
    "a7"
   ]
  },
  {
   "cell_type": "markdown",
   "id": "815fcd9d-a7e8-43a1-a3db-1c250ace53b8",
   "metadata": {
    "id": "815fcd9d-a7e8-43a1-a3db-1c250ace53b8"
   },
   "source": [
    "# Operaciones con arrays"
   ]
  },
  {
   "cell_type": "code",
   "execution_count": 4,
   "id": "99b03034-d955-4caf-842b-cb08be477770",
   "metadata": {
    "colab": {
     "base_uri": "https://localhost:8080/"
    },
    "id": "99b03034-d955-4caf-842b-cb08be477770",
    "executionInfo": {
     "status": "ok",
     "timestamp": 1653592843808,
     "user_tz": 300,
     "elapsed": 14,
     "user": {
      "displayName": "jorge rildo valenzuela garcia",
      "userId": "09377372821825860274"
     }
    },
    "outputId": "bcde89f0-dbaf-4a3b-9314-4bbd7204a54b"
   },
   "outputs": [
    {
     "data": {
      "text/plain": "array([ 6, 10,  8, 12])"
     },
     "execution_count": 4,
     "metadata": {},
     "output_type": "execute_result"
    }
   ],
   "source": [
    "2*a1"
   ]
  },
  {
   "cell_type": "code",
   "execution_count": 5,
   "id": "0b35637d-8559-449c-b88a-5eef27760572",
   "metadata": {
    "colab": {
     "base_uri": "https://localhost:8080/"
    },
    "id": "0b35637d-8559-449c-b88a-5eef27760572",
    "executionInfo": {
     "status": "ok",
     "timestamp": 1653592843808,
     "user_tz": 300,
     "elapsed": 12,
     "user": {
      "displayName": "jorge rildo valenzuela garcia",
      "userId": "09377372821825860274"
     }
    },
    "outputId": "41b7e6d8-8272-4ccf-d611-ab7ea234a494"
   },
   "outputs": [
    {
     "data": {
      "text/plain": "array([0.33333333, 0.2       , 0.25      , 0.16666667])"
     },
     "execution_count": 5,
     "metadata": {},
     "output_type": "execute_result"
    }
   ],
   "source": [
    "1/a1"
   ]
  },
  {
   "cell_type": "code",
   "execution_count": 6,
   "id": "871c663f-ff51-4730-b4ac-6b07abd267a9",
   "metadata": {
    "colab": {
     "base_uri": "https://localhost:8080/"
    },
    "id": "871c663f-ff51-4730-b4ac-6b07abd267a9",
    "executionInfo": {
     "status": "ok",
     "timestamp": 1653592843808,
     "user_tz": 300,
     "elapsed": 11,
     "user": {
      "displayName": "jorge rildo valenzuela garcia",
      "userId": "09377372821825860274"
     }
    },
    "outputId": "bb2f4d85-528e-4c68-cc93-e57d12fd1d44"
   },
   "outputs": [
    {
     "data": {
      "text/plain": "array([3, 5, 4, 6])"
     },
     "execution_count": 6,
     "metadata": {},
     "output_type": "execute_result"
    }
   ],
   "source": [
    "a1"
   ]
  },
  {
   "cell_type": "code",
   "execution_count": 7,
   "id": "5ca6e049-224a-467c-981d-aa9c57da53f0",
   "metadata": {
    "colab": {
     "base_uri": "https://localhost:8080/"
    },
    "id": "5ca6e049-224a-467c-981d-aa9c57da53f0",
    "executionInfo": {
     "status": "ok",
     "timestamp": 1653592843808,
     "user_tz": 300,
     "elapsed": 10,
     "user": {
      "displayName": "jorge rildo valenzuela garcia",
      "userId": "09377372821825860274"
     }
    },
    "outputId": "15135ed8-2808-4c8d-92e4-2b185b397dd0"
   },
   "outputs": [
    {
     "data": {
      "text/plain": "array([False,  True, False,  True])"
     },
     "execution_count": 7,
     "metadata": {},
     "output_type": "execute_result"
    }
   ],
   "source": [
    "a1>4"
   ]
  },
  {
   "cell_type": "code",
   "execution_count": 8,
   "id": "d1b7737a-d62c-4c15-9199-218f34722892",
   "metadata": {
    "colab": {
     "base_uri": "https://localhost:8080/"
    },
    "id": "d1b7737a-d62c-4c15-9199-218f34722892",
    "executionInfo": {
     "status": "ok",
     "timestamp": 1653592843809,
     "user_tz": 300,
     "elapsed": 10,
     "user": {
      "displayName": "jorge rildo valenzuela garcia",
      "userId": "09377372821825860274"
     }
    },
    "outputId": "de836009-fca0-4043-f764-b150ebd99ad9"
   },
   "outputs": [
    {
     "data": {
      "text/plain": "array([ True, False,  True, False])"
     },
     "execution_count": 8,
     "metadata": {},
     "output_type": "execute_result"
    }
   ],
   "source": [
    "a1<=4"
   ]
  },
  {
   "cell_type": "code",
   "execution_count": 9,
   "id": "5b453fa9-7f94-4227-aab6-e4df8434868e",
   "metadata": {
    "colab": {
     "base_uri": "https://localhost:8080/"
    },
    "id": "5b453fa9-7f94-4227-aab6-e4df8434868e",
    "executionInfo": {
     "status": "ok",
     "timestamp": 1653592843809,
     "user_tz": 300,
     "elapsed": 8,
     "user": {
      "displayName": "jorge rildo valenzuela garcia",
      "userId": "09377372821825860274"
     }
    },
    "outputId": "36782b37-843a-4c54-b7f4-94ee522410c6"
   },
   "outputs": [
    {
     "data": {
      "text/plain": "array([0.00000000e+00, 1.02030405e-02, 4.08121620e-02, 9.18273646e-02,\n       1.63248648e-01, 2.55076013e-01, 3.67309458e-01, 4.99948985e-01,\n       6.52994592e-01, 8.26446281e-01, 1.02030405e+00, 1.23456790e+00,\n       1.46923783e+00, 1.72431385e+00, 1.99979594e+00, 2.29568411e+00,\n       2.61197837e+00, 2.94867871e+00, 3.30578512e+00, 3.68329762e+00,\n       4.08121620e+00, 4.49954086e+00, 4.93827160e+00, 5.39740843e+00,\n       5.87695133e+00, 6.37690032e+00, 6.89725538e+00, 7.43801653e+00,\n       7.99918376e+00, 8.58075707e+00, 9.18273646e+00, 9.80512193e+00,\n       1.04479135e+01, 1.11111111e+01, 1.17947148e+01, 1.24987246e+01,\n       1.32231405e+01, 1.39679625e+01, 1.47331905e+01, 1.55188246e+01,\n       1.63248648e+01, 1.71513111e+01, 1.79981635e+01, 1.88654219e+01,\n       1.97530864e+01, 2.06611570e+01, 2.15896337e+01, 2.25385165e+01,\n       2.35078053e+01, 2.44975003e+01, 2.55076013e+01, 2.65381084e+01,\n       2.75890215e+01, 2.86603408e+01, 2.97520661e+01, 3.08641975e+01,\n       3.19967350e+01, 3.31496786e+01, 3.43230283e+01, 3.55167840e+01,\n       3.67309458e+01, 3.79655137e+01, 3.92204877e+01, 4.04958678e+01,\n       4.17916539e+01, 4.31078461e+01, 4.44444444e+01, 4.58014488e+01,\n       4.71788593e+01, 4.85766758e+01, 4.99948985e+01, 5.14335272e+01,\n       5.28925620e+01, 5.43720029e+01, 5.58718498e+01, 5.73921028e+01,\n       5.89327620e+01, 6.04938272e+01, 6.20752984e+01, 6.36771758e+01,\n       6.52994592e+01, 6.69421488e+01, 6.86052444e+01, 7.02887460e+01,\n       7.19926538e+01, 7.37169677e+01, 7.54616876e+01, 7.72268136e+01,\n       7.90123457e+01, 8.08182838e+01, 8.26446281e+01, 8.44913784e+01,\n       8.63585348e+01, 8.82460973e+01, 9.01540659e+01, 9.20824406e+01,\n       9.40312213e+01, 9.60004081e+01, 9.79900010e+01, 1.00000000e+02])"
     },
     "execution_count": 9,
     "metadata": {},
     "output_type": "execute_result"
    }
   ],
   "source": [
    "x = np.linspace(0,10,100)\n",
    "y= x**2\n",
    "y"
   ]
  },
  {
   "cell_type": "code",
   "execution_count": 10,
   "id": "04bdc937-f9ef-4cc1-bab9-d0d248c08728",
   "metadata": {
    "colab": {
     "base_uri": "https://localhost:8080/",
     "height": 282
    },
    "id": "04bdc937-f9ef-4cc1-bab9-d0d248c08728",
    "executionInfo": {
     "status": "ok",
     "timestamp": 1653592844270,
     "user_tz": 300,
     "elapsed": 468,
     "user": {
      "displayName": "jorge rildo valenzuela garcia",
      "userId": "09377372821825860274"
     }
    },
    "outputId": "c1322c55-f5d9-4105-e798-10e863a91be3"
   },
   "outputs": [
    {
     "data": {
      "text/plain": "[<matplotlib.lines.Line2D at 0x20e4e691ae0>]"
     },
     "execution_count": 10,
     "metadata": {},
     "output_type": "execute_result"
    },
    {
     "data": {
      "text/plain": "<Figure size 640x480 with 1 Axes>",
      "image/png": "[encoded data removed]"
     },
     "metadata": {},
     "output_type": "display_data"
    }
   ],
   "source": [
    "plt.plot(x,y)"
   ]
  },
  {
   "cell_type": "code",
   "execution_count": 11,
   "id": "44504fd1-240d-4fd9-8e2a-8563fdc1c6fe",
   "metadata": {
    "id": "44504fd1-240d-4fd9-8e2a-8563fdc1c6fe"
   },
   "outputs": [],
   "source": [
    "x = np.linspace(-3.14,3.14,100)"
   ]
  },
  {
   "cell_type": "code",
   "execution_count": 12,
   "id": "1d074815-2258-4213-bd66-2922d179fcbd",
   "metadata": {
    "id": "1d074815-2258-4213-bd66-2922d179fcbd"
   },
   "outputs": [],
   "source": [
    "def f(x):\n",
    "    return x**2 *np.sin(x) / np.exp(-x)\n",
    "x = np.linspace(0,10,100)\n",
    "y = f(x)"
   ]
  },
  {
   "cell_type": "code",
   "execution_count": 13,
   "id": "54319090-48b3-496d-8a67-ae843ad66973",
   "metadata": {
    "colab": {
     "base_uri": "https://localhost:8080/",
     "height": 293
    },
    "id": "54319090-48b3-496d-8a67-ae843ad66973",
    "executionInfo": {
     "status": "ok",
     "timestamp": 1653592845011,
     "user_tz": 300,
     "elapsed": 744,
     "user": {
      "displayName": "jorge rildo valenzuela garcia",
      "userId": "09377372821825860274"
     }
    },
    "outputId": "b9e7cce5-b829-4e55-9330-2cf14169e490"
   },
   "outputs": [
    {
     "data": {
      "text/plain": "[<matplotlib.lines.Line2D at 0x20e4e7a2350>]"
     },
     "execution_count": 13,
     "metadata": {},
     "output_type": "execute_result"
    },
    {
     "data": {
      "text/plain": "<Figure size 640x480 with 1 Axes>",
      "image/png": "[encoded data removed]"
     },
     "metadata": {},
     "output_type": "display_data"
    }
   ],
   "source": [
    "plt.plot(x,y)"
   ]
  },
  {
   "cell_type": "markdown",
   "id": "0acb4fa9-a7fe-4c71-961e-5aaacf640b3f",
   "metadata": {
    "id": "0acb4fa9-a7fe-4c71-961e-5aaacf640b3f"
   },
   "source": [
    "# Secionando y ubicando elementos en arrays"
   ]
  },
  {
   "cell_type": "code",
   "execution_count": 14,
   "id": "0489fa4a-e5e8-4869-9db0-c6b92450ead7",
   "metadata": {
    "id": "0489fa4a-e5e8-4869-9db0-c6b92450ead7"
   },
   "outputs": [],
   "source": [
    "a1 = np.array([2,4,6,8,10])\n"
   ]
  },
  {
   "cell_type": "code",
   "execution_count": 15,
   "id": "621ff66f-a55e-42e5-be02-beb0b1826130",
   "metadata": {
    "colab": {
     "base_uri": "https://localhost:8080/"
    },
    "id": "621ff66f-a55e-42e5-be02-beb0b1826130",
    "executionInfo": {
     "status": "ok",
     "timestamp": 1653592845012,
     "user_tz": 300,
     "elapsed": 18,
     "user": {
      "displayName": "jorge rildo valenzuela garcia",
      "userId": "09377372821825860274"
     }
    },
    "outputId": "0ccb7c66-79c7-4376-83b5-8048e33393bd"
   },
   "outputs": [
    {
     "data": {
      "text/plain": "6"
     },
     "execution_count": 15,
     "metadata": {},
     "output_type": "execute_result"
    }
   ],
   "source": [
    "a1[2]"
   ]
  },
  {
   "cell_type": "code",
   "execution_count": 16,
   "id": "115a19a5-7a0e-4fa0-97c8-b26bbd7b936f",
   "metadata": {
    "colab": {
     "base_uri": "https://localhost:8080/"
    },
    "id": "115a19a5-7a0e-4fa0-97c8-b26bbd7b936f",
    "executionInfo": {
     "status": "ok",
     "timestamp": 1653592845012,
     "user_tz": 300,
     "elapsed": 16,
     "user": {
      "displayName": "jorge rildo valenzuela garcia",
      "userId": "09377372821825860274"
     }
    },
    "outputId": "4e4ebf58-520a-4118-f909-c52d22edae6e"
   },
   "outputs": [
    {
     "data": {
      "text/plain": "array([ 6,  8, 10])"
     },
     "execution_count": 16,
     "metadata": {},
     "output_type": "execute_result"
    }
   ],
   "source": [
    "a1[2:]"
   ]
  },
  {
   "cell_type": "code",
   "execution_count": 17,
   "id": "28d7de0a-9f54-404b-b64f-e5eac18ef769",
   "metadata": {
    "colab": {
     "base_uri": "https://localhost:8080/"
    },
    "id": "28d7de0a-9f54-404b-b64f-e5eac18ef769",
    "executionInfo": {
     "status": "ok",
     "timestamp": 1653592845013,
     "user_tz": 300,
     "elapsed": 16,
     "user": {
      "displayName": "jorge rildo valenzuela garcia",
      "userId": "09377372821825860274"
     }
    },
    "outputId": "b55be3c0-37a8-4896-8768-5300f07f7288"
   },
   "outputs": [
    {
     "data": {
      "text/plain": "array([2, 4])"
     },
     "execution_count": 17,
     "metadata": {},
     "output_type": "execute_result"
    }
   ],
   "source": [
    "a1[:2]"
   ]
  },
  {
   "cell_type": "code",
   "execution_count": 18,
   "id": "e6f26c0d-74b0-44b6-8f32-6a59505d19a0",
   "metadata": {
    "colab": {
     "base_uri": "https://localhost:8080/"
    },
    "id": "e6f26c0d-74b0-44b6-8f32-6a59505d19a0",
    "executionInfo": {
     "status": "ok",
     "timestamp": 1653592845013,
     "user_tz": 300,
     "elapsed": 15,
     "user": {
      "displayName": "jorge rildo valenzuela garcia",
      "userId": "09377372821825860274"
     }
    },
    "outputId": "ea88459b-22f7-4790-d2c8-7c12d0502274"
   },
   "outputs": [
    {
     "data": {
      "text/plain": "array([4, 6])"
     },
     "execution_count": 18,
     "metadata": {},
     "output_type": "execute_result"
    }
   ],
   "source": [
    "a1[1:-2]"
   ]
  },
  {
   "cell_type": "code",
   "execution_count": 19,
   "id": "706cbc19-f0e7-456c-853e-5a28f5dbab78",
   "metadata": {
    "colab": {
     "base_uri": "https://localhost:8080/"
    },
    "id": "706cbc19-f0e7-456c-853e-5a28f5dbab78",
    "executionInfo": {
     "status": "ok",
     "timestamp": 1653592845013,
     "user_tz": 300,
     "elapsed": 13,
     "user": {
      "displayName": "jorge rildo valenzuela garcia",
      "userId": "09377372821825860274"
     }
    },
    "outputId": "12c75195-21e3-42b3-d420-a5e50f23e491"
   },
   "outputs": [
    {
     "data": {
      "text/plain": "array([False,  True,  True,  True,  True])"
     },
     "execution_count": 19,
     "metadata": {},
     "output_type": "execute_result"
    }
   ],
   "source": [
    "a1>3"
   ]
  },
  {
   "cell_type": "code",
   "execution_count": 20,
   "id": "f39334ed-e4fc-4474-a956-c2184bbc1eb1",
   "metadata": {
    "colab": {
     "base_uri": "https://localhost:8080/"
    },
    "id": "f39334ed-e4fc-4474-a956-c2184bbc1eb1",
    "executionInfo": {
     "status": "ok",
     "timestamp": 1653592845013,
     "user_tz": 300,
     "elapsed": 11,
     "user": {
      "displayName": "jorge rildo valenzuela garcia",
      "userId": "09377372821825860274"
     }
    },
    "outputId": "3693fef2-427b-4202-a0ec-a4cb4089dfb0"
   },
   "outputs": [
    {
     "data": {
      "text/plain": "array([ 4,  6,  8, 10])"
     },
     "execution_count": 20,
     "metadata": {},
     "output_type": "execute_result"
    }
   ],
   "source": [
    "a1[a1>3]"
   ]
  },
  {
   "cell_type": "code",
   "execution_count": 21,
   "id": "fd4f821c-031b-4ebe-ad78-9cbb8ef3741a",
   "metadata": {
    "colab": {
     "base_uri": "https://localhost:8080/"
    },
    "id": "fd4f821c-031b-4ebe-ad78-9cbb8ef3741a",
    "executionInfo": {
     "status": "ok",
     "timestamp": 1653592845013,
     "user_tz": 300,
     "elapsed": 10,
     "user": {
      "displayName": "jorge rildo valenzuela garcia",
      "userId": "09377372821825860274"
     }
    },
    "outputId": "258b9597-019e-4878-9dc1-d1ec275954fe"
   },
   "outputs": [
    {
     "data": {
      "text/plain": "array([ 8, 10])"
     },
     "execution_count": 21,
     "metadata": {},
     "output_type": "execute_result"
    }
   ],
   "source": [
    "a1[a1>6]"
   ]
  },
  {
   "cell_type": "code",
   "execution_count": 22,
   "id": "ba9aab9f-47f3-40ca-8e1b-179371e3b1fa",
   "metadata": {
    "id": "ba9aab9f-47f3-40ca-8e1b-179371e3b1fa"
   },
   "outputs": [],
   "source": [
    "names = np.array(['Jim','Luke','Josh','Pete'])"
   ]
  },
  {
   "cell_type": "code",
   "execution_count": 23,
   "id": "54956fcc-e208-46bd-aaec-e5778eff23df",
   "metadata": {
    "id": "54956fcc-e208-46bd-aaec-e5778eff23df"
   },
   "outputs": [],
   "source": [
    "first_letter_j = np.vectorize(lambda s: s[0])(names) == 'J'"
   ]
  },
  {
   "cell_type": "code",
   "execution_count": null,
   "id": "2e5e6d9a-c29a-41b0-99ca-db03d0ed706b",
   "metadata": {
    "id": "2e5e6d9a-c29a-41b0-99ca-db03d0ed706b"
   },
   "outputs": [],
   "source": [
    "f = lambda s: s[0]"
   ]
  },
  {
   "cell_type": "code",
   "execution_count": null,
   "id": "aae437b2-371b-4148-90ec-8ae0ba0ce9ef",
   "metadata": {
    "colab": {
     "base_uri": "https://localhost:8080/",
     "height": 36
    },
    "id": "aae437b2-371b-4148-90ec-8ae0ba0ce9ef",
    "executionInfo": {
     "status": "ok",
     "timestamp": 1653592845014,
     "user_tz": 300,
     "elapsed": 10,
     "user": {
      "displayName": "jorge rildo valenzuela garcia",
      "userId": "09377372821825860274"
     }
    },
    "outputId": "0ff35b49-8054-4f3b-d3aa-e56e9c9739f1"
   },
   "outputs": [
    {
     "output_type": "execute_result",
     "data": {
      "text/plain": [
       "'A'"
      ],
      "application/vnd.google.colaboratory.intrinsic+json": {
       "type": "string"
      }
     },
     "metadata": {},
     "execution_count": 26
    }
   ],
   "source": [
    "f(\"Animal\")"
   ]
  },
  {
   "cell_type": "markdown",
   "id": "924587c6-9c69-42a5-8f00-0998f9e44e7c",
   "metadata": {
    "id": "924587c6-9c69-42a5-8f00-0998f9e44e7c"
   },
   "source": [
    "# Calculo y funciones estadisticas"
   ]
  },
  {
   "cell_type": "code",
   "execution_count": null,
   "id": "8c27e7c0-c561-4ab2-9624-11b40cb38760",
   "metadata": {
    "id": "8c27e7c0-c561-4ab2-9624-11b40cb38760"
   },
   "outputs": [],
   "source": [
    "a1 = 2*np.random.randn(10000) + 10"
   ]
  },
  {
   "cell_type": "code",
   "execution_count": null,
   "id": "20a9c54a-86ae-48e9-b8b4-6de88b6e9118",
   "metadata": {
    "colab": {
     "base_uri": "https://localhost:8080/"
    },
    "id": "20a9c54a-86ae-48e9-b8b4-6de88b6e9118",
    "executionInfo": {
     "status": "ok",
     "timestamp": 1653592845015,
     "user_tz": 300,
     "elapsed": 10,
     "user": {
      "displayName": "jorge rildo valenzuela garcia",
      "userId": "09377372821825860274"
     }
    },
    "outputId": "a1292ba9-0b81-42b3-bb46-64e79620ec2c"
   },
   "outputs": [
    {
     "output_type": "execute_result",
     "data": {
      "text/plain": [
       "array([ 9.84456489,  5.11722875,  6.51443538, ...,  7.23427973,\n",
       "       10.79482253,  9.32146534])"
      ]
     },
     "metadata": {},
     "execution_count": 28
    }
   ],
   "source": [
    "a1"
   ]
  },
  {
   "cell_type": "markdown",
   "id": "fe4f3928-e3c0-4295-b991-2f3361c4f91f",
   "metadata": {
    "id": "fe4f3928-e3c0-4295-b991-2f3361c4f91f"
   },
   "source": [
    "Mean, standar deviation and percentiles of arrays:"
   ]
  },
  {
   "cell_type": "code",
   "execution_count": null,
   "id": "481e4a0f-5444-41d1-a8c8-2a39c3efd9bd",
   "metadata": {
    "colab": {
     "base_uri": "https://localhost:8080/"
    },
    "id": "481e4a0f-5444-41d1-a8c8-2a39c3efd9bd",
    "executionInfo": {
     "status": "ok",
     "timestamp": 1653592845363,
     "user_tz": 300,
     "elapsed": 8,
     "user": {
      "displayName": "jorge rildo valenzuela garcia",
      "userId": "09377372821825860274"
     }
    },
    "outputId": "fb870ced-7193-49c8-b594-ce2e2424d569"
   },
   "outputs": [
    {
     "output_type": "execute_result",
     "data": {
      "text/plain": [
       "9.98797851830659"
      ]
     },
     "metadata": {},
     "execution_count": 29
    }
   ],
   "source": [
    "np.mean(a1)"
   ]
  },
  {
   "cell_type": "code",
   "execution_count": null,
   "id": "591aef08-f0a4-429c-842f-96a8afc2b4c0",
   "metadata": {
    "colab": {
     "base_uri": "https://localhost:8080/"
    },
    "id": "591aef08-f0a4-429c-842f-96a8afc2b4c0",
    "executionInfo": {
     "status": "ok",
     "timestamp": 1653592845364,
     "user_tz": 300,
     "elapsed": 8,
     "user": {
      "displayName": "jorge rildo valenzuela garcia",
      "userId": "09377372821825860274"
     }
    },
    "outputId": "2fa9ddcb-d9c2-4c1d-9e3b-acbcea644c98"
   },
   "outputs": [
    {
     "output_type": "execute_result",
     "data": {
      "text/plain": [
       "2.013761762407955"
      ]
     },
     "metadata": {},
     "execution_count": 30
    }
   ],
   "source": [
    "np.std(a1)"
   ]
  },
  {
   "cell_type": "code",
   "execution_count": null,
   "id": "23b90dee-68c9-4081-99e5-32286226d46d",
   "metadata": {
    "colab": {
     "base_uri": "https://localhost:8080/"
    },
    "id": "23b90dee-68c9-4081-99e5-32286226d46d",
    "executionInfo": {
     "status": "ok",
     "timestamp": 1653592845364,
     "user_tz": 300,
     "elapsed": 6,
     "user": {
      "displayName": "jorge rildo valenzuela garcia",
      "userId": "09377372821825860274"
     }
    },
    "outputId": "5660fa40-3a62-4b4a-c2dc-4c4a270ba8ce"
   },
   "outputs": [
    {
     "output_type": "execute_result",
     "data": {
      "text/plain": [
       "11.66512695727606"
      ]
     },
     "metadata": {},
     "execution_count": 31
    }
   ],
   "source": [
    "np.percentile(a1,80)"
   ]
  },
  {
   "cell_type": "code",
   "execution_count": null,
   "id": "31e5c598-acac-49ca-884e-df53225e90e9",
   "metadata": {
    "colab": {
     "base_uri": "https://localhost:8080/",
     "height": 282
    },
    "id": "31e5c598-acac-49ca-884e-df53225e90e9",
    "executionInfo": {
     "status": "ok",
     "timestamp": 1653592845734,
     "user_tz": 300,
     "elapsed": 375,
     "user": {
      "displayName": "jorge rildo valenzuela garcia",
      "userId": "09377372821825860274"
     }
    },
    "outputId": "97168272-23d4-48fe-ce5b-f3d13a511555"
   },
   "outputs": [
    {
     "output_type": "execute_result",
     "data": {
      "text/plain": [
       "[<matplotlib.lines.Line2D at 0x7fb03d5d1510>]"
      ]
     },
     "metadata": {},
     "execution_count": 32
    },
    {
     "output_type": "display_data",
     "data": {
      "text/plain": [
       "<Figure size 432x288 with 1 Axes>"
      ],
      "image/png": "[encoded data removed]"
     },
     "metadata": {
      "needs_background": "light"
     }
    }
   ],
   "source": [
    "x=np.linspace(1,10,10000)\n",
    "plt.plot(x,a1)"
   ]
  },
  {
   "cell_type": "code",
   "execution_count": null,
   "id": "15904a7a-9da0-4ced-ac08-d20c9d114ca9",
   "metadata": {
    "colab": {
     "base_uri": "https://localhost:8080/"
    },
    "id": "15904a7a-9da0-4ced-ac08-d20c9d114ca9",
    "executionInfo": {
     "status": "ok",
     "timestamp": 1653592845735,
     "user_tz": 300,
     "elapsed": 5,
     "user": {
      "displayName": "jorge rildo valenzuela garcia",
      "userId": "09377372821825860274"
     }
    },
    "outputId": "a434203b-d65c-4fa5-a66f-f5a940351bca"
   },
   "outputs": [
    {
     "output_type": "execute_result",
     "data": {
      "text/plain": [
       "11.66512695727606"
      ]
     },
     "metadata": {},
     "execution_count": 33
    }
   ],
   "source": [
    "np.percentile(a1,80)"
   ]
  },
  {
   "cell_type": "markdown",
   "id": "91c7c335-1b10-4d9b-b657-7ab841163eb2",
   "metadata": {
    "id": "91c7c335-1b10-4d9b-b657-7ab841163eb2"
   },
   "source": [
    "## Integrals and derivation"
   ]
  },
  {
   "cell_type": "code",
   "execution_count": null,
   "id": "6a74e47d-9495-4f5e-92a8-c9a5bd65f484",
   "metadata": {
    "id": "6a74e47d-9495-4f5e-92a8-c9a5bd65f484"
   },
   "outputs": [],
   "source": []
  },
  {
   "cell_type": "code",
   "execution_count": null,
   "id": "158a750b-643e-471b-bc7e-b928c1186c95",
   "metadata": {
    "id": "158a750b-643e-471b-bc7e-b928c1186c95"
   },
   "outputs": [],
   "source": [
    "x = np.linspace(1,10,100)\n",
    "y = 1/x**2 * np.sin(x)\n",
    "dydx = np.gradient(y, x)\n",
    "y_int = np.cumsum(y) * (x[1]-x[0])"
   ]
  },
  {
   "cell_type": "code",
   "execution_count": null,
   "id": "5a411767-53a2-4a42-b199-bba1d5d4c784",
   "metadata": {
    "colab": {
     "base_uri": "https://localhost:8080/",
     "height": 265
    },
    "id": "5a411767-53a2-4a42-b199-bba1d5d4c784",
    "executionInfo": {
     "status": "ok",
     "timestamp": 1653592846433,
     "user_tz": 300,
     "elapsed": 359,
     "user": {
      "displayName": "jorge rildo valenzuela garcia",
      "userId": "09377372821825860274"
     }
    },
    "outputId": "3bf30598-9cd5-4b9f-ccc1-9be4e0a707f1"
   },
   "outputs": [
    {
     "output_type": "display_data",
     "data": {
      "text/plain": [
       "<Figure size 432x288 with 1 Axes>"
      ],
      "image/png": "[encoded data removed]"
     },
     "metadata": {
      "needs_background": "light"
     }
    }
   ],
   "source": [
    "plt.plot(x,y)\n",
    "plt.plot(x, dydx)\n",
    "plt.plot(x, y_int)\n",
    "plt.grid()"
   ]
  },
  {
   "cell_type": "code",
   "execution_count": null,
   "id": "344cb94e-850d-4e48-826f-eb3572215db8",
   "metadata": {
    "colab": {
     "base_uri": "https://localhost:8080/"
    },
    "id": "344cb94e-850d-4e48-826f-eb3572215db8",
    "executionInfo": {
     "status": "ok",
     "timestamp": 1653592846434,
     "user_tz": 300,
     "elapsed": 7,
     "user": {
      "displayName": "jorge rildo valenzuela garcia",
      "userId": "09377372821825860274"
     }
    },
    "outputId": "fb565ce8-be5d-4f35-de86-418ba76a146d"
   },
   "outputs": [
    {
     "output_type": "execute_result",
     "data": {
      "text/plain": [
       "array([ 2,  3,  7, 12, 17])"
      ]
     },
     "metadata": {},
     "execution_count": 36
    }
   ],
   "source": [
    "np.cumsum(np.array([2,1,4,5,5]))"
   ]
  },
  {
   "cell_type": "markdown",
   "id": "65faff73-f840-4595-a26c-a7222961a848",
   "metadata": {
    "id": "65faff73-f840-4595-a26c-a7222961a848"
   },
   "source": [
    "## Pregunta 1\n",
    "\n",
    "Sea $y = e^{-x/10}sin(x). Considere 1000$ intervalos en el rango $[0, 10]$\n",
    "\n",
    "* Grafique  $y$ $vs$ $x$ in el rango $[0, 10]$\n",
    "* Compute la media y desviación estandar de $y$ para $x$ en [4,7]\n",
    "* Para $x$ en el rango  $[4, 7]$, encuente el valoy $y_m$ tal que el 80% de los valores de $y$ son menores que $y_m$\n",
    "* Grafique $dy/dx$ $vs$ $x$ \n",
    "* Encuentre la localizacióon donde $dy/dx$ = 0 \n"
   ]
  },
  {
   "cell_type": "code",
   "execution_count": null,
   "id": "ddee62e7-05e5-464d-bf45-e4527ef8fc5d",
   "metadata": {
    "id": "ddee62e7-05e5-464d-bf45-e4527ef8fc5d"
   },
   "outputs": [],
   "source": [
    "#Sea la funcion\n",
    "x = np.linspace(0,10,10000)\n",
    "def f(x):\n",
    "    return np.e**(-x/10)*np.sin(x)\n",
    "y = f(x)"
   ]
  },
  {
   "cell_type": "code",
   "execution_count": null,
   "id": "d80262b3-025e-40fc-9f25-865b93d26bb1",
   "metadata": {
    "colab": {
     "base_uri": "https://localhost:8080/",
     "height": 282
    },
    "id": "d80262b3-025e-40fc-9f25-865b93d26bb1",
    "executionInfo": {
     "status": "ok",
     "timestamp": 1653592846850,
     "user_tz": 300,
     "elapsed": 420,
     "user": {
      "displayName": "jorge rildo valenzuela garcia",
      "userId": "09377372821825860274"
     }
    },
    "outputId": "77b3498d-19f2-4ab0-f361-e2d67c4bfb2f"
   },
   "outputs": [
    {
     "output_type": "execute_result",
     "data": {
      "text/plain": [
       "[<matplotlib.lines.Line2D at 0x7fb03d4c5ed0>]"
      ]
     },
     "metadata": {},
     "execution_count": 38
    },
    {
     "output_type": "display_data",
     "data": {
      "text/plain": [
       "<Figure size 432x288 with 1 Axes>"
      ],
      "image/png": "[encoded data removed]"
     },
     "metadata": {
      "needs_background": "light"
     }
    }
   ],
   "source": [
    "# 1. Grafica\n",
    "plt.plot(x,y)"
   ]
  },
  {
   "cell_type": "code",
   "execution_count": null,
   "id": "78dd9ba9-419e-485c-9382-b28f19df8798",
   "metadata": {
    "colab": {
     "base_uri": "https://localhost:8080/"
    },
    "id": "78dd9ba9-419e-485c-9382-b28f19df8798",
    "executionInfo": {
     "status": "ok",
     "timestamp": 1653592846851,
     "user_tz": 300,
     "elapsed": 8,
     "user": {
      "displayName": "jorge rildo valenzuela garcia",
      "userId": "09377372821825860274"
     }
    },
    "outputId": "c989e6cb-6c44-410d-eec6-4ebbbd9cb50c"
   },
   "outputs": [
    {
     "output_type": "execute_result",
     "data": {
      "text/plain": [
       "-0.29546535808951807"
      ]
     },
     "metadata": {},
     "execution_count": 39
    }
   ],
   "source": [
    "# 2.media y desviasion estandar x en [4,7]\n",
    "x = np.linspace(4,7,1000)\n",
    "y = f(x)\n",
    "np.mean(y)"
   ]
  },
  {
   "cell_type": "code",
   "execution_count": null,
   "id": "9bf2dfe0-ed58-4daf-85b7-eccdd2a11d4d",
   "metadata": {
    "colab": {
     "base_uri": "https://localhost:8080/"
    },
    "id": "9bf2dfe0-ed58-4daf-85b7-eccdd2a11d4d",
    "executionInfo": {
     "status": "ok",
     "timestamp": 1653592846851,
     "user_tz": 300,
     "elapsed": 6,
     "user": {
      "displayName": "jorge rildo valenzuela garcia",
      "userId": "09377372821825860274"
     }
    },
    "outputId": "1ff3e101-bd5e-4d41-ec56-e15f06bfa1ad"
   },
   "outputs": [
    {
     "output_type": "execute_result",
     "data": {
      "text/plain": [
       "0.061455393076909844"
      ]
     },
     "metadata": {},
     "execution_count": 40
    }
   ],
   "source": [
    "# 3. En el rango de [4,7] , encuentra el valor ym tal que el 80% de los y son menores que ym\n",
    "np.percentile(y,80)"
   ]
  },
  {
   "cell_type": "code",
   "execution_count": null,
   "id": "1f77c28f-8c8f-4314-b3b2-96d8ba5c8e95",
   "metadata": {
    "colab": {
     "base_uri": "https://localhost:8080/",
     "height": 265
    },
    "id": "1f77c28f-8c8f-4314-b3b2-96d8ba5c8e95",
    "executionInfo": {
     "status": "ok",
     "timestamp": 1653593069539,
     "user_tz": 300,
     "elapsed": 391,
     "user": {
      "displayName": "jorge rildo valenzuela garcia",
      "userId": "09377372821825860274"
     }
    },
    "outputId": "78f72dc0-7c26-4b5c-9067-d88c8a224219"
   },
   "outputs": [
    {
     "output_type": "display_data",
     "data": {
      "text/plain": [
       "<Figure size 432x288 with 1 Axes>"
      ],
      "image/png": "[encoded data removed]"
     },
     "metadata": {
      "needs_background": "light"
     }
    }
   ],
   "source": [
    "# 4. Derivada\n",
    "x = np.linspace(0,10,1000)\n",
    "y = f(x)\n",
    "dydx = np.gradient(y,x)\n",
    "plt.plot(x,y,label=\"f(x)\")\n",
    "plt.plot(x,dydx,label=\"f'(x)\")\n",
    "plt.legend()\n",
    "plt.grid()\n"
   ]
  },
  {
   "cell_type": "code",
   "execution_count": null,
   "id": "ef4e1abf-51b5-418e-8b4a-a5123d9a53fc",
   "metadata": {
    "id": "ef4e1abf-51b5-418e-8b4a-a5123d9a53fc"
   },
   "outputs": [],
   "source": [
    "# 5. Encontrar cuendo dy/dx = 0\n",
    "dydx = np.gradient(y,x)"
   ]
  },
  {
   "cell_type": "code",
   "execution_count": null,
   "id": "30b53070-873e-4753-b1cd-6ac629adcc19",
   "metadata": {
    "id": "30b53070-873e-4753-b1cd-6ac629adcc19"
   },
   "outputs": [],
   "source": [
    "p_criticos=x[1:][dydx[1:]*dydx[:-1] < 0]"
   ]
  },
  {
   "cell_type": "code",
   "source": [
    "# 4. Derivada\n",
    "x = np.linspace(0,10,1000)\n",
    "y = f(x)\n",
    "dydx = np.gradient(y,x)\n",
    "plt.plot(x,y,label=\"f(x)\")\n",
    "plt.plot(x,dydx,label=\"f'(x)\")\n",
    "plt.plot(p_criticos,np.zeros(3),\"o\")\n",
    "plt.legend()\n",
    "plt.grid()\n"
   ],
   "metadata": {
    "colab": {
     "base_uri": "https://localhost:8080/",
     "height": 265
    },
    "id": "HIZ65Zoc0rjc",
    "executionInfo": {
     "status": "ok",
     "timestamp": 1653593074763,
     "user_tz": 300,
     "elapsed": 527,
     "user": {
      "displayName": "jorge rildo valenzuela garcia",
      "userId": "09377372821825860274"
     }
    },
    "outputId": "3b338bb1-a237-4049-9b1a-7c208016089c"
   },
   "id": "HIZ65Zoc0rjc",
   "execution_count": null,
   "outputs": [
    {
     "output_type": "display_data",
     "data": {
      "text/plain": [
       "<Figure size 432x288 with 1 Axes>"
      ],
      "image/png": "[encoded data removed]"
     },
     "metadata": {
      "needs_background": "light"
     }
    }
   ]
  },
  {
   "cell_type": "markdown",
   "id": "3c6be9a8-b0f5-43da-a3f5-1d2efd171715",
   "metadata": {
    "id": "3c6be9a8-b0f5-43da-a3f5-1d2efd171715"
   },
   "source": [
    "## Pregunta 2\n",
    "\n",
    "Sume todos los numeros de 0 a 10 000 excepto de los multiplos de 4 o 7. En una linea de código."
   ]
  },
  {
   "cell_type": "code",
   "execution_count": null,
   "id": "9f3a36a1-0d9c-4454-b730-7b251b3dc85a",
   "metadata": {
    "colab": {
     "base_uri": "https://localhost:8080/"
    },
    "id": "9f3a36a1-0d9c-4454-b730-7b251b3dc85a",
    "executionInfo": {
     "status": "ok",
     "timestamp": 1653592847293,
     "user_tz": 300,
     "elapsed": 6,
     "user": {
      "displayName": "jorge rildo valenzuela garcia",
      "userId": "09377372821825860274"
     }
    },
    "outputId": "849b8c0c-3f5a-4712-85ed-8a5aba8e4651"
   },
   "outputs": [
    {
     "output_type": "execute_result",
     "data": {
      "text/plain": [
       "32147142"
      ]
     },
     "metadata": {},
     "execution_count": 44
    }
   ],
   "source": [
    "np.sum(np.arange(0,10001,1)[(np.arange(0,10001,1)%4 != 0) * (np.arange(0,10001,1)%7 != 0)])\n"
   ]
  },
  {
   "cell_type": "markdown",
   "id": "c408f623-2976-4bfc-ba4a-a02090e9d590",
   "metadata": {
    "id": "c408f623-2976-4bfc-ba4a-a02090e9d590"
   },
   "source": [
    "## Pregunta 3\n",
    "Considere en petalo de flor $r(θ)= 1 + 3/4sin(3\\theta)$ para $0\\le\\theta\\le2\\pi$\n",
    "\n",
    "* Haga una gráfica de la flor \n",
    "* Compute el area usando la formula $A=\\int_{0}^{2\\pi} \\frac{1}{2}r^2d\\theta$\n",
    "* Compute la longitud de arco usando la formula $A=\\int_{0}^{2\\pi} \\sqrt{r^2 + (\\frac{dr}{d\\theta}) } d\\theta$"
   ]
  },
  {
   "cell_type": "code",
   "execution_count": null,
   "id": "dbdab692-4f92-47f5-9e59-4ef0757860c1",
   "metadata": {
    "id": "dbdab692-4f92-47f5-9e59-4ef0757860c1"
   },
   "outputs": [],
   "source": [
    "#Transformemos coordenadas polares a cartesianas\n",
    "t = np.linspace(0,2*np.pi,1000)\n",
    "r = 1 + 3/4*np.sin(3*t)\n",
    "x = np.cos(t)*r\n",
    "y = np.sin(t)*r"
   ]
  },
  {
   "cell_type": "code",
   "execution_count": null,
   "id": "25f3d4a8-38ce-4eb1-b206-7974451202fd",
   "metadata": {
    "colab": {
     "base_uri": "https://localhost:8080/",
     "height": 265
    },
    "id": "25f3d4a8-38ce-4eb1-b206-7974451202fd",
    "executionInfo": {
     "status": "ok",
     "timestamp": 1653594247092,
     "user_tz": 300,
     "elapsed": 382,
     "user": {
      "displayName": "jorge rildo valenzuela garcia",
      "userId": "09377372821825860274"
     }
    },
    "outputId": "ee7d626a-4f23-447d-d120-d629775033b0"
   },
   "outputs": [
    {
     "output_type": "display_data",
     "data": {
      "text/plain": [
       "<Figure size 432x288 with 1 Axes>"
      ],
      "image/png": "[encoded data removed]"
     },
     "metadata": {
      "needs_background": "light"
     }
    }
   ],
   "source": [
    "# 1. Graficar\n",
    "plt.plot(x,y)\n",
    "plt.grid()"
   ]
  },
  {
   "cell_type": "code",
   "execution_count": null,
   "id": "6178e208-8ac2-4471-9b32-b25e983fe083",
   "metadata": {
    "colab": {
     "base_uri": "https://localhost:8080/"
    },
    "id": "6178e208-8ac2-4471-9b32-b25e983fe083",
    "executionInfo": {
     "status": "ok",
     "timestamp": 1653592848045,
     "user_tz": 300,
     "elapsed": 6,
     "user": {
      "displayName": "jorge rildo valenzuela garcia",
      "userId": "09377372821825860274"
     }
    },
    "outputId": "efb58215-e0c9-4ec3-b1ce-f5832361c109"
   },
   "outputs": [
    {
     "output_type": "execute_result",
     "data": {
      "text/plain": [
       "4.028310324802903"
      ]
     },
     "metadata": {},
     "execution_count": 47
    }
   ],
   "source": [
    "# 2. Calcular el area\n",
    "Area = np.sum(1/2*r**2*(t[1]-t[0]))\n",
    "Area"
   ]
  },
  {
   "cell_type": "code",
   "execution_count": null,
   "id": "44a8fc2c-e450-4057-99d3-6cf086b861b6",
   "metadata": {
    "id": "44a8fc2c-e450-4057-99d3-6cf086b861b6"
   },
   "outputs": [],
   "source": [
    "# 3. Calcular longitud "
   ]
  },
  {
   "cell_type": "code",
   "execution_count": null,
   "id": "07097532-84a5-4021-b897-1033d3ef2592",
   "metadata": {
    "colab": {
     "base_uri": "https://localhost:8080/"
    },
    "id": "07097532-84a5-4021-b897-1033d3ef2592",
    "executionInfo": {
     "status": "ok",
     "timestamp": 1653592848045,
     "user_tz": 300,
     "elapsed": 4,
     "user": {
      "displayName": "jorge rildo valenzuela garcia",
      "userId": "09377372821825860274"
     }
    },
    "outputId": "d2ff4732-0745-4c9d-fa70-04eeb68e876c"
   },
   "outputs": [
    {
     "output_type": "execute_result",
     "data": {
      "text/plain": [
       "11.64002156901387"
      ]
     },
     "metadata": {},
     "execution_count": 49
    }
   ],
   "source": [
    "drdt= np.gradient(r,t)\n",
    "Longitud = sum(np.sqrt(r**2 + drdt**2)*(t[1]-t[0]))\n",
    "Longitud"
   ]
  },
  {
   "cell_type": "markdown",
   "id": "8fb9b196-1088-4df5-841f-0f6e1eee923f",
   "metadata": {
    "id": "8fb9b196-1088-4df5-841f-0f6e1eee923f"
   },
   "source": [
    "# Multi-Dimensional Arrays"
   ]
  },
  {
   "cell_type": "code",
   "execution_count": null,
   "id": "bc90f40f-d564-4ed0-9bbd-9d3c476fe8e3",
   "metadata": {
    "id": "bc90f40f-d564-4ed0-9bbd-9d3c476fe8e3"
   },
   "outputs": [],
   "source": []
  }
 ],
 "metadata": {
  "kernelspec": {
   "display_name": "Python 3 (ipykernel)",
   "language": "python",
   "name": "python3"
  },
  "language_info": {
   "codemirror_mode": {
    "name": "ipython",
    "version": 3
   },
   "file_extension": ".py",
   "mimetype": "text/x-python",
   "name": "python",
   "nbconvert_exporter": "python",
   "pygments_lexer": "ipython3",
   "version": "3.9.7"
  },
  "colab": {
   "provenance": [],
   "collapsed_sections": [
    "0acb4fa9-a7fe-4c71-961e-5aaacf640b3f",
    "924587c6-9c69-42a5-8f00-0998f9e44e7c",
    "91c7c335-1b10-4d9b-b657-7ab841163eb2",
    "65faff73-f840-4595-a26c-a7222961a848",
    "3c6be9a8-b0f5-43da-a3f5-1d2efd171715",
    "c408f623-2976-4bfc-ba4a-a02090e9d590",
    "8fb9b196-1088-4df5-841f-0f6e1eee923f"
   ]
  }
 },
 "nbformat": 4,
 "nbformat_minor": 5
}
